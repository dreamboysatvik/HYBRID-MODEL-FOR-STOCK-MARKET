{
  "nbformat": 4,
  "nbformat_minor": 0,
  "metadata": {
    "colab": {
      "name": "Untitled0.ipynb",
      "provenance": [],
      "authorship_tag": "ABX9TyPCnSq7UfjxJr8qVLqiJFZe",
      "include_colab_link": true
    },
    "kernelspec": {
      "display_name": "Python 3",
      "name": "python3"
    },
    "language_info": {
      "name": "python"
    }
  },
  "cells": [
    {
      "cell_type": "markdown",
      "metadata": {
        "id": "view-in-github",
        "colab_type": "text"
      },
      "source": [
        "<a href=\"https://colab.research.google.com/github/dreamboysatvik/HYBRID-MODEL-FOR-STOCK-MARKET/blob/main/Sparks_task.ipynb\" target=\"_parent\"><img src=\"https://colab.research.google.com/assets/colab-badge.svg\" alt=\"Open In Colab\"/></a>"
      ]
    },
    {
      "cell_type": "code",
      "metadata": {
        "colab": {
          "base_uri": "https://localhost:8080/"
        },
        "id": "alberIulSV3W",
        "outputId": "39756a64-4e53-4b1f-c5b9-ae2f611a29c2"
      },
      "source": [
        "# -*- coding: utf-8 -*-\n",
        "\"\"\"\n",
        "Created on Sun Jul  4 16:42:26 2021\n",
        "\n",
        "@author: hp\n",
        "\"\"\"\n",
        "\n",
        "#Series analysis\n",
        "import os\n",
        "import warnings\n",
        "warnings.filterwarnings('ignore')\n",
        "import pandas as pd\n",
        "import numpy as np\n",
        "import matplotlib.pyplot as plt\n",
        "import itertools\n",
        "from statsmodels.tsa.stattools import adfuller, acf, pacf\n",
        "#ARIMA is used to understand past data or predict future data in a series.\n",
        "from statsmodels.tsa.arima_model import ARIMA\n",
        "import nltk\n",
        "import re\n",
        "from nltk.corpus import stopwords\n",
        "nltk.download('stopwords')\n",
        "nltk.download('vader_lexicon')\n",
        "# TEXTBLOB IS part-of-speech tagging, noun phrase extraction, sentiment analysis, classification, translation, and more\n",
        "from textblob import TextBlob\n",
        "from nltk.sentiment.vader import SentimentIntensityAnalyzer\n",
        "from nltk.stem.porter import PorterStemmer\n",
        "from sklearn.metrics import mean_squared_error\n",
        "from sklearn.model_selection import train_test_split\n",
        "from sklearn.ensemble import RandomForestRegressor, AdaBoostRegressor\n",
        "import xgboost \n",
        "import lightgbm\n",
        "\n",
        "\n",
        "\n"
      ],
      "execution_count": 61,
      "outputs": [
        {
          "output_type": "stream",
          "text": [
            "[nltk_data] Downloading package stopwords to /root/nltk_data...\n",
            "[nltk_data]   Package stopwords is already up-to-date!\n",
            "[nltk_data] Downloading package vader_lexicon to /root/nltk_data...\n",
            "[nltk_data]   Package vader_lexicon is already up-to-date!\n"
          ],
          "name": "stdout"
        }
      ]
    },
    {
      "cell_type": "code",
      "metadata": {
        "colab": {
          "base_uri": "https://localhost:8080/",
          "height": 714
        },
        "id": "laFL8mDVWdvm",
        "outputId": "14f5ae0d-e8e1-4052-cd1d-1676cf1f21a6"
      },
      "source": [
        "df_prices = pd.read_csv(\"BSESN.csv\")\n",
        "print(df_prices.head())\n",
        "print(df_prices.shape)\n",
        "      \n",
        "df_prices[\"Date\"] = pd.to_datetime(df_prices[\"Date\"])\n",
        "df_prices.info()\n",
        "\n",
        "df_prices.dropna(inplace = True)\n",
        "\n",
        "plt.figure(figsize=(10, 6))\n",
        "df_prices['Close'].plot()\n",
        "plt.ylabel('Close')\n",
        "\n"
      ],
      "execution_count": 62,
      "outputs": [
        {
          "output_type": "stream",
          "text": [
            "        Date     Open     High      Low    Close\n",
            "0  04-Jan-01  4180.97  4180.97  4109.55  4115.37\n",
            "1  05-Jan-01  4116.34  4195.01  4115.35  4183.73\n",
            "2  08-Jan-01  4164.76  4206.72  4101.53  4120.43\n",
            "3  09-Jan-01  4114.74  4166.84  4101.01  4125.31\n",
            "4  10-Jan-01  4151.58  4155.86  4035.44  4047.64\n",
            "(5097, 5)\n",
            "<class 'pandas.core.frame.DataFrame'>\n",
            "RangeIndex: 5097 entries, 0 to 5096\n",
            "Data columns (total 5 columns):\n",
            " #   Column  Non-Null Count  Dtype         \n",
            "---  ------  --------------  -----         \n",
            " 0   Date    5097 non-null   datetime64[ns]\n",
            " 1   Open    5097 non-null   float64       \n",
            " 2   High    5097 non-null   float64       \n",
            " 3   Low     5097 non-null   float64       \n",
            " 4   Close   5097 non-null   float64       \n",
            "dtypes: datetime64[ns](1), float64(4)\n",
            "memory usage: 199.2 KB\n"
          ],
          "name": "stdout"
        },
        {
          "output_type": "execute_result",
          "data": {
            "text/plain": [
              "Text(0, 0.5, 'Close')"
            ]
          },
          "metadata": {
            "tags": []
          },
          "execution_count": 62
        },
        {
          "output_type": "display_data",
          "data": {
            "image/png": "[encoded data removed]",
            "text/plain": [
              "<Figure size 720x432 with 1 Axes>"
            ]
          },
          "metadata": {
            "tags": [],
            "needs_background": "light"
          }
        }
      ]
    },
    {
      "cell_type": "code",
      "metadata": {
        "colab": {
          "base_uri": "https://localhost:8080/",
          "height": 391
        },
        "id": "Q5d53pjzWpxC",
        "outputId": "3ea3a2e1-1a8a-4530-adb8-e8ec2389fc81"
      },
      "source": [
        "#Plotting moving average\n",
        "close = df_prices['Close']\n",
        "ma = close.rolling(window = 50).mean()\n",
        "std = close.rolling(window = 50).std()\n",
        "\n",
        "plt.figure(figsize=(10, 6))\n",
        "df_prices['Close'].plot(color = 'b', label = 'Close')\n",
        "ma.plot(color = 'r', label = 'Rolling Mean')\n",
        "std.plot(label = 'Rolling Standard Deviation')\n",
        "plt.legend()\n",
        "\n"
      ],
      "execution_count": 63,
      "outputs": [
        {
          "output_type": "execute_result",
          "data": {
            "text/plain": [
              "<matplotlib.legend.Legend at 0x7fc2b3071110>"
            ]
          },
          "metadata": {
            "tags": []
          },
          "execution_count": 63
        },
        {
          "output_type": "display_data",
          "data": {
            "image/png": "[encoded data removed]",
            "text/plain": [
              "<Figure size 720x432 with 1 Axes>"
            ]
          },
          "metadata": {
            "tags": [],
            "needs_background": "light"
          }
        }
      ]
    },
    {
      "cell_type": "code",
      "metadata": {
        "colab": {
          "base_uri": "https://localhost:8080/",
          "height": 390
        },
        "id": "K_hV5Ek2Wu6k",
        "outputId": "24cdccad-8f36-4239-b7cb-833d13d68b86"
      },
      "source": [
        "\n",
        "#Plotting returns\n",
        "returns = close / close.shift(1) - 1\n",
        "\n",
        "plt.figure(figsize = (10,6))\n",
        "returns.plot(label='Return', color = 'teal')\n",
        "plt.title(\"Returns\")\n",
        "\n",
        "\n",
        "train = df_prices[:4000]\n",
        "test = df_prices[4000:]\n",
        "\n"
      ],
      "execution_count": 64,
      "outputs": [
        {
          "output_type": "display_data",
          "data": {
            "image/png": "[encoded data removed]",
            "text/plain": [
              "<Figure size 720x432 with 1 Axes>"
            ]
          },
          "metadata": {
            "tags": [],
            "needs_background": "light"
          }
        }
      ]
    },
    {
      "cell_type": "code",
      "metadata": {
        "colab": {
          "base_uri": "https://localhost:8080/",
          "height": 620
        },
        "id": "_bFj-VlqWysj",
        "outputId": "601997ed-37f1-4e7d-99c3-1560d94c9cb1"
      },
      "source": [
        "#Stationarity test\n",
        "def test_stationarity(timeseries):\n",
        "\n",
        " #Determing rolling statistics\n",
        " rolmean = timeseries.rolling(20).mean()\n",
        " rolstd = timeseries.rolling(20).std()\n",
        "\n",
        " #Plot rolling statistics:\n",
        " plt.figure(figsize = (10,8))\n",
        " plt.plot(timeseries, color = 'y', label = 'original')\n",
        " plt.plot(rolmean, color = 'r', label = 'rolling mean')\n",
        " plt.plot(rolstd, color = 'b', label = 'rolling std')\n",
        " plt.xlabel('Date')\n",
        " plt.legend()\n",
        " plt.title('Rolling Mean and Standard Deviation',  fontsize = 20)\n",
        " plt.show(block = False)\n",
        " \n",
        " print('Results of dickey fuller test')\n",
        " result = adfuller(timeseries, autolag = 'AIC')\n",
        " labels = ['ADF Test Statistic','p-value','#Lags Used','Number of Observations Used']\n",
        " for value,label in zip(result, labels):\n",
        "   print(label+' : '+str(value) )\n",
        " if result[1] <= 0.05:\n",
        "   print(\"Strong evidence against the null hypothesis(Ho), reject the null hypothesis. Data is stationary\")\n",
        " else:\n",
        "   print(\"Weak evidence against null hypothesis, time series is non-stationary \")\n",
        "test_stationarity(train['Close'])\n",
        "\n"
      ],
      "execution_count": 65,
      "outputs": [
        {
          "output_type": "display_data",
          "data": {
            "image/png": "[encoded data removed]",
            "text/plain": [
              "<Figure size 720x576 with 1 Axes>"
            ]
          },
          "metadata": {
            "tags": [],
            "needs_background": "light"
          }
        },
        {
          "output_type": "stream",
          "text": [
            "Results of dickey fuller test\n",
            "ADF Test Statistic : -0.4991917532026632\n",
            "p-value : 0.8921741240563106\n",
            "#Lags Used : 14\n",
            "Number of Observations Used : 3985\n",
            "Weak evidence against null hypothesis, time series is non-stationary \n"
          ],
          "name": "stdout"
        }
      ]
    },
    {
      "cell_type": "code",
      "metadata": {
        "colab": {
          "base_uri": "https://localhost:8080/",
          "height": 391
        },
        "id": "f1JQ23YXW9x5",
        "outputId": "e1c1423d-191e-48cb-8253-24fab5ffeb8b"
      },
      "source": [
        "\n",
        "train_log = np.log(train['Close']) \n",
        "test_log = np.log(test['Close'])\n",
        "\n",
        "mav = train_log.rolling(24).mean() \n",
        "plt.figure(figsize = (10,6))\n",
        "plt.plot(train_log) \n",
        "plt.plot(mav, color = 'red')\n",
        "\n",
        "\n"
      ],
      "execution_count": 66,
      "outputs": [
        {
          "output_type": "execute_result",
          "data": {
            "text/plain": [
              "[<matplotlib.lines.Line2D at 0x7fc2ab0525d0>]"
            ]
          },
          "metadata": {
            "tags": []
          },
          "execution_count": 66
        },
        {
          "output_type": "display_data",
          "data": {
            "image/png": "[encoded data removed]",
            "text/plain": [
              "<Figure size 720x432 with 1 Axes>"
            ]
          },
          "metadata": {
            "tags": [],
            "needs_background": "light"
          }
        }
      ]
    },
    {
      "cell_type": "code",
      "metadata": {
        "colab": {
          "base_uri": "https://localhost:8080/",
          "height": 620
        },
        "id": "OvNVxrDIXDQk",
        "outputId": "3c3fd7b9-c0d0-457e-8c53-7ecef6ba9f0b"
      },
      "source": [
        "train_log.dropna(inplace = True)\n",
        "test_log.dropna(inplace = True)\n",
        "\n",
        "test_stationarity(train_log)\n",
        "\n",
        "\n"
      ],
      "execution_count": 68,
      "outputs": [
        {
          "output_type": "display_data",
          "data": {
            "image/png": "[encoded data removed]",
            "text/plain": [
              "<Figure size 720x576 with 1 Axes>"
            ]
          },
          "metadata": {
            "tags": [],
            "needs_background": "light"
          }
        },
        {
          "output_type": "stream",
          "text": [
            "Results of dickey fuller test\n",
            "ADF Test Statistic : -0.8758768446383587\n",
            "p-value : 0.7958126935391578\n",
            "#Lags Used : 14\n",
            "Number of Observations Used : 3985\n",
            "Weak evidence against null hypothesis, time series is non-stationary \n"
          ],
          "name": "stdout"
        }
      ]
    },
    {
      "cell_type": "code",
      "metadata": {
        "colab": {
          "base_uri": "https://localhost:8080/",
          "height": 620
        },
        "id": "s3rTb3rqXMxB",
        "outputId": "a1c56491-992f-4210-cf8e-9aac25457a71"
      },
      "source": [
        "train_log_diff = train_log - mav\n",
        "train_log_diff.dropna(inplace = True)\n",
        "\n",
        "test_stationarity(train_log_diff)\n",
        "\n"
      ],
      "execution_count": 69,
      "outputs": [
        {
          "output_type": "display_data",
          "data": {
            "image/png": "[encoded data removed]",
            "text/plain": [
              "<Figure size 720x576 with 1 Axes>"
            ]
          },
          "metadata": {
            "tags": [],
            "needs_background": "light"
          }
        },
        {
          "output_type": "stream",
          "text": [
            "Results of dickey fuller test\n",
            "ADF Test Statistic : -9.377403738069972\n",
            "p-value : 7.106134739839854e-16\n",
            "#Lags Used : 26\n",
            "Number of Observations Used : 3950\n",
            "Strong evidence against the null hypothesis(Ho), reject the null hypothesis. Data is stationary\n"
          ],
          "name": "stdout"
        }
      ]
    },
    {
      "cell_type": "code",
      "metadata": {
        "colab": {
          "base_uri": "https://localhost:8080/",
          "height": 567
        },
        "id": "Aq31gwbzXW8u",
        "outputId": "8647b2cb-5165-4aa3-82cd-bc206a8936a6"
      },
      "source": [
        "#Using auto arima to make predictions using log data\n",
        "from pmdarima import auto_arima\n",
        "model = auto_arima(train_log, trace = True, error_action = 'ignore', suppress_warnings = True)\n",
        "model.fit(train_log)\n",
        "predictions = model.predict(n_periods = len(test))\n",
        "predictions = pd.DataFrame(predictions,index = test_log.index,columns=['Prediction'])\n",
        "\n",
        "\n",
        "plt.plot(train_log, label='Train')\n",
        "plt.plot(test_log, label='Test')\n",
        "plt.plot(predictions, label='Prediction')\n",
        "plt.title('BSESN Stock Price Prediction')\n",
        "plt.xlabel('Time')\n",
        "plt.ylabel('Actual Stock Price')\n",
        "\n",
        "\n",
        "#Calculating error\n",
        "rms = np.sqrt(mean_squared_error(test_log,predictions))\n",
        "print(\"RMSE : \", rms)"
      ],
      "execution_count": 70,
      "outputs": [
        {
          "output_type": "stream",
          "text": [
            "Performing stepwise search to minimize aic\n",
            " ARIMA(2,1,2)(0,0,0)[0] intercept   : AIC=-22436.086, Time=2.37 sec\n",
            " ARIMA(0,1,0)(0,0,0)[0] intercept   : AIC=-22409.824, Time=0.53 sec\n",
            " ARIMA(1,1,0)(0,0,0)[0] intercept   : AIC=-22431.057, Time=0.51 sec\n",
            " ARIMA(0,1,1)(0,0,0)[0] intercept   : AIC=-22433.519, Time=1.19 sec\n",
            " ARIMA(0,1,0)(0,0,0)[0]             : AIC=-22407.606, Time=0.23 sec\n",
            " ARIMA(1,1,2)(0,0,0)[0] intercept   : AIC=-22438.169, Time=1.87 sec\n",
            " ARIMA(0,1,2)(0,0,0)[0] intercept   : AIC=-22439.680, Time=1.03 sec\n",
            " ARIMA(0,1,3)(0,0,0)[0] intercept   : AIC=-22438.143, Time=2.09 sec\n",
            " ARIMA(1,1,1)(0,0,0)[0] intercept   : AIC=-22437.482, Time=0.80 sec\n",
            " ARIMA(1,1,3)(0,0,0)[0] intercept   : AIC=-22436.103, Time=2.79 sec\n",
            " ARIMA(0,1,2)(0,0,0)[0]             : AIC=-22437.707, Time=0.32 sec\n",
            "\n",
            "Best model:  ARIMA(0,1,2)(0,0,0)[0] intercept\n",
            "Total fit time: 13.741 seconds\n",
            "RMSE :  0.09901747466935151\n"
          ],
          "name": "stdout"
        },
        {
          "output_type": "display_data",
          "data": {
            "image/png": "[encoded data removed]",
            "text/plain": [
              "<Figure size 432x288 with 1 Axes>"
            ]
          },
          "metadata": {
            "tags": [],
            "needs_background": "light"
          }
        }
      ]
    },
    {
      "cell_type": "code",
      "metadata": {
        "colab": {
          "base_uri": "https://localhost:8080/",
          "height": 419
        },
        "id": "IVT_kJH7ZPZx",
        "outputId": "93ddd937-5cfe-4dad-ea8d-29b64de2c578"
      },
      "source": [
        "#textual analysis\n",
        "\n",
        "\n",
        "cols = ['Date','Category','News']\n",
        "df_news = pd.read_csv('india-news-headlines.csv', names = cols)\n",
        "df_news\n",
        "\n",
        "\n"
      ],
      "execution_count": null,
      "outputs": [
        {
          "output_type": "execute_result",
          "data": {
            "text/html": [
              "<div>\n",
              "<style scoped>\n",
              "    .dataframe tbody tr th:only-of-type {\n",
              "        vertical-align: middle;\n",
              "    }\n",
              "\n",
              "    .dataframe tbody tr th {\n",
              "        vertical-align: top;\n",
              "    }\n",
              "\n",
              "    .dataframe thead th {\n",
              "        text-align: right;\n",
              "    }\n",
              "</style>\n",
              "<table border=\"1\" class=\"dataframe\">\n",
              "  <thead>\n",
              "    <tr style=\"text-align: right;\">\n",
              "      <th></th>\n",
              "      <th>Date</th>\n",
              "      <th>Category</th>\n",
              "      <th>News</th>\n",
              "    </tr>\n",
              "  </thead>\n",
              "  <tbody>\n",
              "    <tr>\n",
              "      <th>0</th>\n",
              "      <td>publish_date</td>\n",
              "      <td>headline_category</td>\n",
              "      <td>headline_text</td>\n",
              "    </tr>\n",
              "    <tr>\n",
              "      <th>1</th>\n",
              "      <td>20010102</td>\n",
              "      <td>unknown</td>\n",
              "      <td>Status quo will not be disturbed at Ayodhya; s...</td>\n",
              "    </tr>\n",
              "    <tr>\n",
              "      <th>2</th>\n",
              "      <td>20010102</td>\n",
              "      <td>unknown</td>\n",
              "      <td>Fissures in Hurriyat over Pak visit</td>\n",
              "    </tr>\n",
              "    <tr>\n",
              "      <th>3</th>\n",
              "      <td>20010102</td>\n",
              "      <td>unknown</td>\n",
              "      <td>America's unwanted heading for India?</td>\n",
              "    </tr>\n",
              "    <tr>\n",
              "      <th>4</th>\n",
              "      <td>20010102</td>\n",
              "      <td>unknown</td>\n",
              "      <td>For bigwigs; it is destination Goa</td>\n",
              "    </tr>\n",
              "    <tr>\n",
              "      <th>...</th>\n",
              "      <td>...</td>\n",
              "      <td>...</td>\n",
              "      <td>...</td>\n",
              "    </tr>\n",
              "    <tr>\n",
              "      <th>2294216</th>\n",
              "      <td>20151231</td>\n",
              "      <td>city.bhubaneswar</td>\n",
              "      <td>BJP cadres ransack pension venue</td>\n",
              "    </tr>\n",
              "    <tr>\n",
              "      <th>2294217</th>\n",
              "      <td>20151231</td>\n",
              "      <td>unknown</td>\n",
              "      <td>Highest paid TV actors</td>\n",
              "    </tr>\n",
              "    <tr>\n",
              "      <th>2294218</th>\n",
              "      <td>20151231</td>\n",
              "      <td>unknown</td>\n",
              "      <td>Malaika's sexy work out regime</td>\n",
              "    </tr>\n",
              "    <tr>\n",
              "      <th>2294219</th>\n",
              "      <td>20151231</td>\n",
              "      <td>top-headlines</td>\n",
              "      <td>News brief: 'High time India; Pak end hostilit...</td>\n",
              "    </tr>\n",
              "    <tr>\n",
              "      <th>2294220</th>\n",
              "      <td>201512</td>\n",
              "      <td>NaN</td>\n",
              "      <td>NaN</td>\n",
              "    </tr>\n",
              "  </tbody>\n",
              "</table>\n",
              "<p>2294221 rows × 3 columns</p>\n",
              "</div>"
            ],
            "text/plain": [
              "                 Date  ...                                               News\n",
              "0        publish_date  ...                                      headline_text\n",
              "1            20010102  ...  Status quo will not be disturbed at Ayodhya; s...\n",
              "2            20010102  ...                Fissures in Hurriyat over Pak visit\n",
              "3            20010102  ...              America's unwanted heading for India?\n",
              "4            20010102  ...                 For bigwigs; it is destination Goa\n",
              "...               ...  ...                                                ...\n",
              "2294216      20151231  ...                   BJP cadres ransack pension venue\n",
              "2294217      20151231  ...                             Highest paid TV actors\n",
              "2294218      20151231  ...                     Malaika's sexy work out regime\n",
              "2294219      20151231  ...  News brief: 'High time India; Pak end hostilit...\n",
              "2294220        201512  ...                                                NaN\n",
              "\n",
              "[2294221 rows x 3 columns]"
            ]
          },
          "metadata": {
            "tags": []
          },
          "execution_count": 5
        }
      ]
    },
    {
      "cell_type": "code",
      "metadata": {
        "colab": {
          "base_uri": "https://localhost:8080/"
        },
        "id": "xRWSaa3cZXDc",
        "outputId": "c127e190-d669-4221-bb11-32bc042b6fce"
      },
      "source": [
        "df_news.drop(0, inplace=True)\n",
        "df_news.drop('Category', axis = 1, inplace=True)\n",
        "df_news.info()\n",
        "\n"
      ],
      "execution_count": null,
      "outputs": [
        {
          "output_type": "stream",
          "text": [
            "<class 'pandas.core.frame.DataFrame'>\n",
            "Int64Index: 2294220 entries, 1 to 2294220\n",
            "Data columns (total 2 columns):\n",
            " #   Column  Dtype \n",
            "---  ------  ----- \n",
            " 0   Date    object\n",
            " 1   News    object\n",
            "dtypes: object(2)\n",
            "memory usage: 52.5+ MB\n"
          ],
          "name": "stdout"
        }
      ]
    },
    {
      "cell_type": "code",
      "metadata": {
        "colab": {
          "base_uri": "https://localhost:8080/",
          "height": 419
        },
        "id": "W_R3FBNBZbhz",
        "outputId": "d584bc30-da67-4f81-a608-1e4819098b63"
      },
      "source": [
        "df_news['Date'] = pd.to_datetime(df_news['Date'],format= '%Y%m%d')\n",
        "df_news= df_news.replace(np.nan, '', regex=True)\n",
        "df_news\n"
      ],
      "execution_count": null,
      "outputs": [
        {
          "output_type": "execute_result",
          "data": {
            "text/html": [
              "<div>\n",
              "<style scoped>\n",
              "    .dataframe tbody tr th:only-of-type {\n",
              "        vertical-align: middle;\n",
              "    }\n",
              "\n",
              "    .dataframe tbody tr th {\n",
              "        vertical-align: top;\n",
              "    }\n",
              "\n",
              "    .dataframe thead th {\n",
              "        text-align: right;\n",
              "    }\n",
              "</style>\n",
              "<table border=\"1\" class=\"dataframe\">\n",
              "  <thead>\n",
              "    <tr style=\"text-align: right;\">\n",
              "      <th></th>\n",
              "      <th>Date</th>\n",
              "      <th>News</th>\n",
              "    </tr>\n",
              "  </thead>\n",
              "  <tbody>\n",
              "    <tr>\n",
              "      <th>1</th>\n",
              "      <td>2001-01-02</td>\n",
              "      <td>Status quo will not be disturbed at Ayodhya; s...</td>\n",
              "    </tr>\n",
              "    <tr>\n",
              "      <th>2</th>\n",
              "      <td>2001-01-02</td>\n",
              "      <td>Fissures in Hurriyat over Pak visit</td>\n",
              "    </tr>\n",
              "    <tr>\n",
              "      <th>3</th>\n",
              "      <td>2001-01-02</td>\n",
              "      <td>America's unwanted heading for India?</td>\n",
              "    </tr>\n",
              "    <tr>\n",
              "      <th>4</th>\n",
              "      <td>2001-01-02</td>\n",
              "      <td>For bigwigs; it is destination Goa</td>\n",
              "    </tr>\n",
              "    <tr>\n",
              "      <th>5</th>\n",
              "      <td>2001-01-02</td>\n",
              "      <td>Extra buses to clear tourist traffic</td>\n",
              "    </tr>\n",
              "    <tr>\n",
              "      <th>...</th>\n",
              "      <td>...</td>\n",
              "      <td>...</td>\n",
              "    </tr>\n",
              "    <tr>\n",
              "      <th>2294216</th>\n",
              "      <td>2015-12-31</td>\n",
              "      <td>BJP cadres ransack pension venue</td>\n",
              "    </tr>\n",
              "    <tr>\n",
              "      <th>2294217</th>\n",
              "      <td>2015-12-31</td>\n",
              "      <td>Highest paid TV actors</td>\n",
              "    </tr>\n",
              "    <tr>\n",
              "      <th>2294218</th>\n",
              "      <td>2015-12-31</td>\n",
              "      <td>Malaika's sexy work out regime</td>\n",
              "    </tr>\n",
              "    <tr>\n",
              "      <th>2294219</th>\n",
              "      <td>2015-12-31</td>\n",
              "      <td>News brief: 'High time India; Pak end hostilit...</td>\n",
              "    </tr>\n",
              "    <tr>\n",
              "      <th>2294220</th>\n",
              "      <td>2015-01-02</td>\n",
              "      <td></td>\n",
              "    </tr>\n",
              "  </tbody>\n",
              "</table>\n",
              "<p>2294220 rows × 2 columns</p>\n",
              "</div>"
            ],
            "text/plain": [
              "              Date                                               News\n",
              "1       2001-01-02  Status quo will not be disturbed at Ayodhya; s...\n",
              "2       2001-01-02                Fissures in Hurriyat over Pak visit\n",
              "3       2001-01-02              America's unwanted heading for India?\n",
              "4       2001-01-02                 For bigwigs; it is destination Goa\n",
              "5       2001-01-02               Extra buses to clear tourist traffic\n",
              "...            ...                                                ...\n",
              "2294216 2015-12-31                   BJP cadres ransack pension venue\n",
              "2294217 2015-12-31                             Highest paid TV actors\n",
              "2294218 2015-12-31                     Malaika's sexy work out regime\n",
              "2294219 2015-12-31  News brief: 'High time India; Pak end hostilit...\n",
              "2294220 2015-01-02                                                   \n",
              "\n",
              "[2294220 rows x 2 columns]"
            ]
          },
          "metadata": {
            "tags": []
          },
          "execution_count": 28
        }
      ]
    },
    {
      "cell_type": "code",
      "metadata": {
        "colab": {
          "base_uri": "https://localhost:8080/",
          "height": 419
        },
        "id": "bxeOW9jHZpz5",
        "outputId": "7216a7f7-5ce9-4164-9410-30896f1ae8b9"
      },
      "source": [
        "\n",
        "df_news['News'] = df_news.groupby(['Date'])[\"News\"].transform(lambda x : ' '.join(x)) \n",
        "df_news = df_news.drop_duplicates() \n",
        "df_news.reset_index(inplace = True, drop = True)\n",
        "df_news\n",
        "\n",
        "\n"
      ],
      "execution_count": null,
      "outputs": [
        {
          "output_type": "execute_result",
          "data": {
            "text/html": [
              "<div>\n",
              "<style scoped>\n",
              "    .dataframe tbody tr th:only-of-type {\n",
              "        vertical-align: middle;\n",
              "    }\n",
              "\n",
              "    .dataframe tbody tr th {\n",
              "        vertical-align: top;\n",
              "    }\n",
              "\n",
              "    .dataframe thead th {\n",
              "        text-align: right;\n",
              "    }\n",
              "</style>\n",
              "<table border=\"1\" class=\"dataframe\">\n",
              "  <thead>\n",
              "    <tr style=\"text-align: right;\">\n",
              "      <th></th>\n",
              "      <th>Date</th>\n",
              "      <th>News</th>\n",
              "    </tr>\n",
              "  </thead>\n",
              "  <tbody>\n",
              "    <tr>\n",
              "      <th>0</th>\n",
              "      <td>2001-01-02</td>\n",
              "      <td>Status quo will not be disturbed at Ayodhya; s...</td>\n",
              "    </tr>\n",
              "    <tr>\n",
              "      <th>1</th>\n",
              "      <td>2001-01-03</td>\n",
              "      <td>Powerless north India gropes in the dark Think...</td>\n",
              "    </tr>\n",
              "    <tr>\n",
              "      <th>2</th>\n",
              "      <td>2001-01-04</td>\n",
              "      <td>The string that pulled Stephen Hawking to Indi...</td>\n",
              "    </tr>\n",
              "    <tr>\n",
              "      <th>3</th>\n",
              "      <td>2001-01-05</td>\n",
              "      <td>Light combat craft takes India into club class...</td>\n",
              "    </tr>\n",
              "    <tr>\n",
              "      <th>4</th>\n",
              "      <td>2001-01-06</td>\n",
              "      <td>Light combat craft takes India into club class...</td>\n",
              "    </tr>\n",
              "    <tr>\n",
              "      <th>...</th>\n",
              "      <td>...</td>\n",
              "      <td>...</td>\n",
              "    </tr>\n",
              "    <tr>\n",
              "      <th>5430</th>\n",
              "      <td>2015-12-27</td>\n",
              "      <td>Why mother's touch is so soothing Salman Khan:...</td>\n",
              "    </tr>\n",
              "    <tr>\n",
              "      <th>5431</th>\n",
              "      <td>2015-12-28</td>\n",
              "      <td>8 common sexual fetishes 15 best healthy cooki...</td>\n",
              "    </tr>\n",
              "    <tr>\n",
              "      <th>5432</th>\n",
              "      <td>2015-12-29</td>\n",
              "      <td>5 confusing healthy habits 2nd ODI: Afghanista...</td>\n",
              "    </tr>\n",
              "    <tr>\n",
              "      <th>5433</th>\n",
              "      <td>2015-12-30</td>\n",
              "      <td>Tips to handle late-night partying Tips to avo...</td>\n",
              "    </tr>\n",
              "    <tr>\n",
              "      <th>5434</th>\n",
              "      <td>2015-12-31</td>\n",
              "      <td>Answers to your food choices 7 must-try teas f...</td>\n",
              "    </tr>\n",
              "  </tbody>\n",
              "</table>\n",
              "<p>5435 rows × 2 columns</p>\n",
              "</div>"
            ],
            "text/plain": [
              "           Date                                               News\n",
              "0    2001-01-02  Status quo will not be disturbed at Ayodhya; s...\n",
              "1    2001-01-03  Powerless north India gropes in the dark Think...\n",
              "2    2001-01-04  The string that pulled Stephen Hawking to Indi...\n",
              "3    2001-01-05  Light combat craft takes India into club class...\n",
              "4    2001-01-06  Light combat craft takes India into club class...\n",
              "...         ...                                                ...\n",
              "5430 2015-12-27  Why mother's touch is so soothing Salman Khan:...\n",
              "5431 2015-12-28  8 common sexual fetishes 15 best healthy cooki...\n",
              "5432 2015-12-29  5 confusing healthy habits 2nd ODI: Afghanista...\n",
              "5433 2015-12-30  Tips to handle late-night partying Tips to avo...\n",
              "5434 2015-12-31  Answers to your food choices 7 must-try teas f...\n",
              "\n",
              "[5435 rows x 2 columns]"
            ]
          },
          "metadata": {
            "tags": []
          },
          "execution_count": 29
        }
      ]
    },
    {
      "cell_type": "code",
      "metadata": {
        "id": "jcgdWY1G5iil"
      },
      "source": [
        "\n",
        "#Cleaning headlines\n",
        "c = []\n",
        "for i in range(0,len(df_news['News'])):\n",
        "    news = re.sub('[^a-zA-Z]',' ',df_news['News'][i])\n",
        "    news = news.lower()\n",
        "    news = news.split()\n",
        "    ps=PorterStemmer()\n",
        "    news = [ps.stem(word) for word in news if not word in set(stopwords.words('english'))]\n",
        "    news=' '.join(news)\n",
        "    c.append(news)"
      ],
      "execution_count": null,
      "outputs": []
    },
    {
      "cell_type": "code",
      "metadata": {
        "colab": {
          "base_uri": "https://localhost:8080/",
          "height": 419
        },
        "id": "PBjrgxCS7blB",
        "outputId": "f00c371d-2d1d-4c68-d042-3dad7b9bb0ee"
      },
      "source": [
        "df_news['News'] = pd.Series(c)\n",
        "df_news"
      ],
      "execution_count": null,
      "outputs": [
        {
          "output_type": "execute_result",
          "data": {
            "text/html": [
              "<div>\n",
              "<style scoped>\n",
              "    .dataframe tbody tr th:only-of-type {\n",
              "        vertical-align: middle;\n",
              "    }\n",
              "\n",
              "    .dataframe tbody tr th {\n",
              "        vertical-align: top;\n",
              "    }\n",
              "\n",
              "    .dataframe thead th {\n",
              "        text-align: right;\n",
              "    }\n",
              "</style>\n",
              "<table border=\"1\" class=\"dataframe\">\n",
              "  <thead>\n",
              "    <tr style=\"text-align: right;\">\n",
              "      <th></th>\n",
              "      <th>Date</th>\n",
              "      <th>News</th>\n",
              "    </tr>\n",
              "  </thead>\n",
              "  <tbody>\n",
              "    <tr>\n",
              "      <th>0</th>\n",
              "      <td>2001-01-02</td>\n",
              "      <td>statu quo disturb ayodhya say vajpaye fissur h...</td>\n",
              "    </tr>\n",
              "    <tr>\n",
              "      <th>1</th>\n",
              "      <td>2001-01-03</td>\n",
              "      <td>powerless north india grope dark think laxman ...</td>\n",
              "    </tr>\n",
              "    <tr>\n",
              "      <th>2</th>\n",
              "      <td>2001-01-04</td>\n",
              "      <td>string pull stephen hawk india vajpaye give bi...</td>\n",
              "    </tr>\n",
              "    <tr>\n",
              "      <th>3</th>\n",
              "      <td>2001-01-05</td>\n",
              "      <td>light combat craft take india club class hawk ...</td>\n",
              "    </tr>\n",
              "    <tr>\n",
              "      <th>4</th>\n",
              "      <td>2001-01-06</td>\n",
              "      <td>light combat craft take india club class hawk ...</td>\n",
              "    </tr>\n",
              "    <tr>\n",
              "      <th>...</th>\n",
              "      <td>...</td>\n",
              "      <td>...</td>\n",
              "    </tr>\n",
              "    <tr>\n",
              "      <th>5430</th>\n",
              "      <td>2015-12-27</td>\n",
              "      <td>mother touch sooth salman khan clich make film...</td>\n",
              "    </tr>\n",
              "    <tr>\n",
              "      <th>5431</th>\n",
              "      <td>2015-12-28</td>\n",
              "      <td>common sexual fetish best healthi cook oil ind...</td>\n",
              "    </tr>\n",
              "    <tr>\n",
              "      <th>5432</th>\n",
              "      <td>2015-12-29</td>\n",
              "      <td>confus healthi habit nd odi afghanistan vs zim...</td>\n",
              "    </tr>\n",
              "    <tr>\n",
              "      <th>5433</th>\n",
              "      <td>2015-12-30</td>\n",
              "      <td>tip handl late night parti tip avoid red lipst...</td>\n",
              "    </tr>\n",
              "    <tr>\n",
              "      <th>5434</th>\n",
              "      <td>2015-12-31</td>\n",
              "      <td>answer food choic must tri tea healthier right...</td>\n",
              "    </tr>\n",
              "  </tbody>\n",
              "</table>\n",
              "<p>5435 rows × 2 columns</p>\n",
              "</div>"
            ],
            "text/plain": [
              "           Date                                               News\n",
              "0    2001-01-02  statu quo disturb ayodhya say vajpaye fissur h...\n",
              "1    2001-01-03  powerless north india grope dark think laxman ...\n",
              "2    2001-01-04  string pull stephen hawk india vajpaye give bi...\n",
              "3    2001-01-05  light combat craft take india club class hawk ...\n",
              "4    2001-01-06  light combat craft take india club class hawk ...\n",
              "...         ...                                                ...\n",
              "5430 2015-12-27  mother touch sooth salman khan clich make film...\n",
              "5431 2015-12-28  common sexual fetish best healthi cook oil ind...\n",
              "5432 2015-12-29  confus healthi habit nd odi afghanistan vs zim...\n",
              "5433 2015-12-30  tip handl late night parti tip avoid red lipst...\n",
              "5434 2015-12-31  answer food choic must tri tea healthier right...\n",
              "\n",
              "[5435 rows x 2 columns]"
            ]
          },
          "metadata": {
            "tags": []
          },
          "execution_count": 33
        }
      ]
    },
    {
      "cell_type": "code",
      "metadata": {
        "id": "t_1dG32h7eiI"
      },
      "source": [
        "#Functions to get the subjectivity and polarity\n",
        "def getSubjectivity(text):\n",
        "  return TextBlob(text).sentiment.subjectivity\n",
        "\n",
        "def getPolarity(text):\n",
        "  return  TextBlob(text).sentiment.polarity"
      ],
      "execution_count": null,
      "outputs": []
    },
    {
      "cell_type": "code",
      "metadata": {
        "colab": {
          "base_uri": "https://localhost:8080/",
          "height": 419
        },
        "id": "t5y2CcOm7h2x",
        "outputId": "b7ccc8c2-1fe2-4cde-bfca-0888ddcb2ced"
      },
      "source": [
        "\n",
        "#Adding subjectivity and polarity columns\n",
        "df_news['Subjectivity'] = df_news['News'].apply(getSubjectivity)\n",
        "df_news['Polarity'] = df_news['News'].apply(getPolarity)\n",
        "df_news"
      ],
      "execution_count": null,
      "outputs": [
        {
          "output_type": "execute_result",
          "data": {
            "text/html": [
              "<div>\n",
              "<style scoped>\n",
              "    .dataframe tbody tr th:only-of-type {\n",
              "        vertical-align: middle;\n",
              "    }\n",
              "\n",
              "    .dataframe tbody tr th {\n",
              "        vertical-align: top;\n",
              "    }\n",
              "\n",
              "    .dataframe thead th {\n",
              "        text-align: right;\n",
              "    }\n",
              "</style>\n",
              "<table border=\"1\" class=\"dataframe\">\n",
              "  <thead>\n",
              "    <tr style=\"text-align: right;\">\n",
              "      <th></th>\n",
              "      <th>Date</th>\n",
              "      <th>News</th>\n",
              "      <th>Subjectivity</th>\n",
              "      <th>Polarity</th>\n",
              "    </tr>\n",
              "  </thead>\n",
              "  <tbody>\n",
              "    <tr>\n",
              "      <th>0</th>\n",
              "      <td>2001-01-02</td>\n",
              "      <td>statu quo disturb ayodhya say vajpaye fissur h...</td>\n",
              "      <td>0.298148</td>\n",
              "      <td>0.099074</td>\n",
              "    </tr>\n",
              "    <tr>\n",
              "      <th>1</th>\n",
              "      <td>2001-01-03</td>\n",
              "      <td>powerless north india grope dark think laxman ...</td>\n",
              "      <td>0.429167</td>\n",
              "      <td>0.025000</td>\n",
              "    </tr>\n",
              "    <tr>\n",
              "      <th>2</th>\n",
              "      <td>2001-01-04</td>\n",
              "      <td>string pull stephen hawk india vajpaye give bi...</td>\n",
              "      <td>0.475140</td>\n",
              "      <td>0.032481</td>\n",
              "    </tr>\n",
              "    <tr>\n",
              "      <th>3</th>\n",
              "      <td>2001-01-05</td>\n",
              "      <td>light combat craft take india club class hawk ...</td>\n",
              "      <td>0.458412</td>\n",
              "      <td>0.296404</td>\n",
              "    </tr>\n",
              "    <tr>\n",
              "      <th>4</th>\n",
              "      <td>2001-01-06</td>\n",
              "      <td>light combat craft take india club class hawk ...</td>\n",
              "      <td>0.425758</td>\n",
              "      <td>0.389394</td>\n",
              "    </tr>\n",
              "    <tr>\n",
              "      <th>...</th>\n",
              "      <td>...</td>\n",
              "      <td>...</td>\n",
              "      <td>...</td>\n",
              "      <td>...</td>\n",
              "    </tr>\n",
              "    <tr>\n",
              "      <th>5430</th>\n",
              "      <td>2015-12-27</td>\n",
              "      <td>mother touch sooth salman khan clich make film...</td>\n",
              "      <td>0.419260</td>\n",
              "      <td>0.064392</td>\n",
              "    </tr>\n",
              "    <tr>\n",
              "      <th>5431</th>\n",
              "      <td>2015-12-28</td>\n",
              "      <td>common sexual fetish best healthi cook oil ind...</td>\n",
              "      <td>0.409842</td>\n",
              "      <td>0.075807</td>\n",
              "    </tr>\n",
              "    <tr>\n",
              "      <th>5432</th>\n",
              "      <td>2015-12-29</td>\n",
              "      <td>confus healthi habit nd odi afghanistan vs zim...</td>\n",
              "      <td>0.440270</td>\n",
              "      <td>0.036626</td>\n",
              "    </tr>\n",
              "    <tr>\n",
              "      <th>5433</th>\n",
              "      <td>2015-12-30</td>\n",
              "      <td>tip handl late night parti tip avoid red lipst...</td>\n",
              "      <td>0.435480</td>\n",
              "      <td>0.108731</td>\n",
              "    </tr>\n",
              "    <tr>\n",
              "      <th>5434</th>\n",
              "      <td>2015-12-31</td>\n",
              "      <td>answer food choic must tri tea healthier right...</td>\n",
              "      <td>0.401180</td>\n",
              "      <td>0.067278</td>\n",
              "    </tr>\n",
              "  </tbody>\n",
              "</table>\n",
              "<p>5435 rows × 4 columns</p>\n",
              "</div>"
            ],
            "text/plain": [
              "           Date  ...  Polarity\n",
              "0    2001-01-02  ...  0.099074\n",
              "1    2001-01-03  ...  0.025000\n",
              "2    2001-01-04  ...  0.032481\n",
              "3    2001-01-05  ...  0.296404\n",
              "4    2001-01-06  ...  0.389394\n",
              "...         ...  ...       ...\n",
              "5430 2015-12-27  ...  0.064392\n",
              "5431 2015-12-28  ...  0.075807\n",
              "5432 2015-12-29  ...  0.036626\n",
              "5433 2015-12-30  ...  0.108731\n",
              "5434 2015-12-31  ...  0.067278\n",
              "\n",
              "[5435 rows x 4 columns]"
            ]
          },
          "metadata": {
            "tags": []
          },
          "execution_count": 36
        }
      ]
    },
    {
      "cell_type": "code",
      "metadata": {
        "colab": {
          "base_uri": "https://localhost:8080/",
          "height": 391
        },
        "id": "CcvDvhbZ7keJ",
        "outputId": "7c4018b2-d64e-4845-e9eb-2b2837885caf"
      },
      "source": [
        "plt.figure(figsize = (10,6))\n",
        "df_news['Polarity'].hist(color = 'purple')"
      ],
      "execution_count": null,
      "outputs": [
        {
          "output_type": "execute_result",
          "data": {
            "text/plain": [
              "<matplotlib.axes._subplots.AxesSubplot at 0x7fc2b38837d0>"
            ]
          },
          "metadata": {
            "tags": []
          },
          "execution_count": 37
        },
        {
          "output_type": "display_data",
          "data": {
            "image/png": "[encoded data removed]",
            "text/plain": [
              "<Figure size 720x432 with 1 Axes>"
            ]
          },
          "metadata": {
            "tags": []
          }
        }
      ]
    },
    {
      "cell_type": "code",
      "metadata": {
        "colab": {
          "base_uri": "https://localhost:8080/",
          "height": 391
        },
        "id": "OTnlXHko7muj",
        "outputId": "7e530484-83f5-41d0-fe5a-919fd46a4354"
      },
      "source": [
        "plt.figure(figsize = (10,6))\n",
        "df_news['Subjectivity'].hist(color = 'blue')"
      ],
      "execution_count": null,
      "outputs": [
        {
          "output_type": "execute_result",
          "data": {
            "text/plain": [
              "<matplotlib.axes._subplots.AxesSubplot at 0x7fc2af136b10>"
            ]
          },
          "metadata": {
            "tags": []
          },
          "execution_count": 38
        },
        {
          "output_type": "display_data",
          "data": {
            "image/png": "[encoded data removed]",
            "text/plain": [
              "<Figure size 720x432 with 1 Axes>"
            ]
          },
          "metadata": {
            "tags": []
          }
        }
      ]
    },
    {
      "cell_type": "code",
      "metadata": {
        "colab": {
          "background_save": true
        },
        "id": "x9UGIIxI7pR7",
        "outputId": "089e8566-2535-49bd-95f2-521c15976844"
      },
      "source": [
        "#Adding sentiment score to df_news\n",
        "sia = SentimentIntensityAnalyzer()\n",
        "\n",
        "df_news['Compound'] = [sia.polarity_scores(v)['compound'] for v in df_news['News']]\n",
        "df_news['Negative'] = [sia.polarity_scores(v)['neg'] for v in df_news['News']]\n",
        "df_news['Neutral'] = [sia.polarity_scores(v)['neu'] for v in df_news['News']]\n",
        "df_news['Positive'] = [sia.polarity_scores(v)['pos'] for v in df_news['News']]\n",
        "df_news"
      ],
      "execution_count": null,
      "outputs": [
        {
          "output_type": "execute_result",
          "data": {
            "text/html": [
              "<div>\n",
              "<style scoped>\n",
              "    .dataframe tbody tr th:only-of-type {\n",
              "        vertical-align: middle;\n",
              "    }\n",
              "\n",
              "    .dataframe tbody tr th {\n",
              "        vertical-align: top;\n",
              "    }\n",
              "\n",
              "    .dataframe thead th {\n",
              "        text-align: right;\n",
              "    }\n",
              "</style>\n",
              "<table border=\"1\" class=\"dataframe\">\n",
              "  <thead>\n",
              "    <tr style=\"text-align: right;\">\n",
              "      <th></th>\n",
              "      <th>Date</th>\n",
              "      <th>News</th>\n",
              "      <th>Subjectivity</th>\n",
              "      <th>Polarity</th>\n",
              "      <th>Compound</th>\n",
              "      <th>Negative</th>\n",
              "      <th>Neutral</th>\n",
              "      <th>Positive</th>\n",
              "    </tr>\n",
              "  </thead>\n",
              "  <tbody>\n",
              "    <tr>\n",
              "      <th>0</th>\n",
              "      <td>2001-01-02</td>\n",
              "      <td>statu quo disturb ayodhya say vajpaye fissur h...</td>\n",
              "      <td>0.298148</td>\n",
              "      <td>0.099074</td>\n",
              "      <td>-0.8555</td>\n",
              "      <td>0.125</td>\n",
              "      <td>0.773</td>\n",
              "      <td>0.102</td>\n",
              "    </tr>\n",
              "    <tr>\n",
              "      <th>1</th>\n",
              "      <td>2001-01-03</td>\n",
              "      <td>powerless north india grope dark think laxman ...</td>\n",
              "      <td>0.429167</td>\n",
              "      <td>0.025000</td>\n",
              "      <td>-0.5994</td>\n",
              "      <td>0.132</td>\n",
              "      <td>0.755</td>\n",
              "      <td>0.113</td>\n",
              "    </tr>\n",
              "    <tr>\n",
              "      <th>2</th>\n",
              "      <td>2001-01-04</td>\n",
              "      <td>string pull stephen hawk india vajpaye give bi...</td>\n",
              "      <td>0.475140</td>\n",
              "      <td>0.032481</td>\n",
              "      <td>0.9169</td>\n",
              "      <td>0.099</td>\n",
              "      <td>0.791</td>\n",
              "      <td>0.110</td>\n",
              "    </tr>\n",
              "    <tr>\n",
              "      <th>3</th>\n",
              "      <td>2001-01-05</td>\n",
              "      <td>light combat craft take india club class hawk ...</td>\n",
              "      <td>0.458412</td>\n",
              "      <td>0.296404</td>\n",
              "      <td>-0.3612</td>\n",
              "      <td>0.171</td>\n",
              "      <td>0.659</td>\n",
              "      <td>0.170</td>\n",
              "    </tr>\n",
              "    <tr>\n",
              "      <th>4</th>\n",
              "      <td>2001-01-06</td>\n",
              "      <td>light combat craft take india club class hawk ...</td>\n",
              "      <td>0.425758</td>\n",
              "      <td>0.389394</td>\n",
              "      <td>-0.7579</td>\n",
              "      <td>0.207</td>\n",
              "      <td>0.649</td>\n",
              "      <td>0.144</td>\n",
              "    </tr>\n",
              "    <tr>\n",
              "      <th>...</th>\n",
              "      <td>...</td>\n",
              "      <td>...</td>\n",
              "      <td>...</td>\n",
              "      <td>...</td>\n",
              "      <td>...</td>\n",
              "      <td>...</td>\n",
              "      <td>...</td>\n",
              "      <td>...</td>\n",
              "    </tr>\n",
              "    <tr>\n",
              "      <th>5430</th>\n",
              "      <td>2015-12-27</td>\n",
              "      <td>mother touch sooth salman khan clich make film...</td>\n",
              "      <td>0.419260</td>\n",
              "      <td>0.064392</td>\n",
              "      <td>-0.9997</td>\n",
              "      <td>0.133</td>\n",
              "      <td>0.777</td>\n",
              "      <td>0.091</td>\n",
              "    </tr>\n",
              "    <tr>\n",
              "      <th>5431</th>\n",
              "      <td>2015-12-28</td>\n",
              "      <td>common sexual fetish best healthi cook oil ind...</td>\n",
              "      <td>0.409842</td>\n",
              "      <td>0.075807</td>\n",
              "      <td>-0.9996</td>\n",
              "      <td>0.136</td>\n",
              "      <td>0.765</td>\n",
              "      <td>0.099</td>\n",
              "    </tr>\n",
              "    <tr>\n",
              "      <th>5432</th>\n",
              "      <td>2015-12-29</td>\n",
              "      <td>confus healthi habit nd odi afghanistan vs zim...</td>\n",
              "      <td>0.440270</td>\n",
              "      <td>0.036626</td>\n",
              "      <td>-0.9999</td>\n",
              "      <td>0.151</td>\n",
              "      <td>0.765</td>\n",
              "      <td>0.085</td>\n",
              "    </tr>\n",
              "    <tr>\n",
              "      <th>5433</th>\n",
              "      <td>2015-12-30</td>\n",
              "      <td>tip handl late night parti tip avoid red lipst...</td>\n",
              "      <td>0.435480</td>\n",
              "      <td>0.108731</td>\n",
              "      <td>-0.9993</td>\n",
              "      <td>0.132</td>\n",
              "      <td>0.763</td>\n",
              "      <td>0.106</td>\n",
              "    </tr>\n",
              "    <tr>\n",
              "      <th>5434</th>\n",
              "      <td>2015-12-31</td>\n",
              "      <td>answer food choic must tri tea healthier right...</td>\n",
              "      <td>0.401180</td>\n",
              "      <td>0.067278</td>\n",
              "      <td>-0.9996</td>\n",
              "      <td>0.159</td>\n",
              "      <td>0.755</td>\n",
              "      <td>0.085</td>\n",
              "    </tr>\n",
              "  </tbody>\n",
              "</table>\n",
              "<p>5435 rows × 8 columns</p>\n",
              "</div>"
            ],
            "text/plain": [
              "           Date  ... Positive\n",
              "0    2001-01-02  ...    0.102\n",
              "1    2001-01-03  ...    0.113\n",
              "2    2001-01-04  ...    0.110\n",
              "3    2001-01-05  ...    0.170\n",
              "4    2001-01-06  ...    0.144\n",
              "...         ...  ...      ...\n",
              "5430 2015-12-27  ...    0.091\n",
              "5431 2015-12-28  ...    0.099\n",
              "5432 2015-12-29  ...    0.085\n",
              "5433 2015-12-30  ...    0.106\n",
              "5434 2015-12-31  ...    0.085\n",
              "\n",
              "[5435 rows x 8 columns]"
            ]
          },
          "metadata": {
            "tags": []
          },
          "execution_count": 0
        }
      ]
    },
    {
      "cell_type": "code",
      "metadata": {
        "id": "3WpOSFCc7rwg",
        "colab": {
          "base_uri": "https://localhost:8080/",
          "height": 1000
        },
        "outputId": "ede5dcd4-a8c3-4b34-801c-2e8093b6b197"
      },
      "source": [
        "df_merge = pd.merge(df_prices, df_news, how='inner', on='Date')\n",
        "df_merge"
      ],
      "execution_count": 40,
      "outputs": [
        {
          "output_type": "execute_result",
          "data": {
            "text/html": [
              "<div>\n",
              "<style scoped>\n",
              "    .dataframe tbody tr th:only-of-type {\n",
              "        vertical-align: middle;\n",
              "    }\n",
              "\n",
              "    .dataframe tbody tr th {\n",
              "        vertical-align: top;\n",
              "    }\n",
              "\n",
              "    .dataframe thead th {\n",
              "        text-align: right;\n",
              "    }\n",
              "</style>\n",
              "<table border=\"1\" class=\"dataframe\">\n",
              "  <thead>\n",
              "    <tr style=\"text-align: right;\">\n",
              "      <th></th>\n",
              "      <th>Date</th>\n",
              "      <th>Open</th>\n",
              "      <th>High</th>\n",
              "      <th>Low</th>\n",
              "      <th>Close</th>\n",
              "      <th>News</th>\n",
              "      <th>Subjectivity</th>\n",
              "      <th>Polarity</th>\n",
              "      <th>Compound</th>\n",
              "      <th>Negative</th>\n",
              "      <th>Neutral</th>\n",
              "      <th>Positive</th>\n",
              "    </tr>\n",
              "  </thead>\n",
              "  <tbody>\n",
              "    <tr>\n",
              "      <th>0</th>\n",
              "      <td>2001-01-04</td>\n",
              "      <td>4180.97</td>\n",
              "      <td>4180.97</td>\n",
              "      <td>4109.55</td>\n",
              "      <td>4115.37</td>\n",
              "      <td>string pull stephen hawk india vajpaye give bi...</td>\n",
              "      <td>0.475140</td>\n",
              "      <td>0.032481</td>\n",
              "      <td>0.9169</td>\n",
              "      <td>0.099</td>\n",
              "      <td>0.791</td>\n",
              "      <td>0.110</td>\n",
              "    </tr>\n",
              "    <tr>\n",
              "      <th>1</th>\n",
              "      <td>2001-01-05</td>\n",
              "      <td>4116.34</td>\n",
              "      <td>4195.01</td>\n",
              "      <td>4115.35</td>\n",
              "      <td>4183.73</td>\n",
              "      <td>light combat craft take india club class hawk ...</td>\n",
              "      <td>0.458412</td>\n",
              "      <td>0.296404</td>\n",
              "      <td>-0.3612</td>\n",
              "      <td>0.171</td>\n",
              "      <td>0.659</td>\n",
              "      <td>0.170</td>\n",
              "    </tr>\n",
              "    <tr>\n",
              "      <th>2</th>\n",
              "      <td>2001-01-08</td>\n",
              "      <td>4164.76</td>\n",
              "      <td>4206.72</td>\n",
              "      <td>4101.53</td>\n",
              "      <td>4120.43</td>\n",
              "      <td>sangh parivar babri panel ant frontrunn key us...</td>\n",
              "      <td>0.486204</td>\n",
              "      <td>-0.035142</td>\n",
              "      <td>-0.6808</td>\n",
              "      <td>0.100</td>\n",
              "      <td>0.816</td>\n",
              "      <td>0.084</td>\n",
              "    </tr>\n",
              "    <tr>\n",
              "      <th>3</th>\n",
              "      <td>2001-01-09</td>\n",
              "      <td>4114.74</td>\n",
              "      <td>4166.84</td>\n",
              "      <td>4101.01</td>\n",
              "      <td>4125.31</td>\n",
              "      <td>financi bharat shah held alleg link chotta sha...</td>\n",
              "      <td>0.453860</td>\n",
              "      <td>0.057229</td>\n",
              "      <td>-0.9928</td>\n",
              "      <td>0.141</td>\n",
              "      <td>0.813</td>\n",
              "      <td>0.047</td>\n",
              "    </tr>\n",
              "    <tr>\n",
              "      <th>4</th>\n",
              "      <td>2001-01-10</td>\n",
              "      <td>4151.58</td>\n",
              "      <td>4155.86</td>\n",
              "      <td>4035.44</td>\n",
              "      <td>4047.64</td>\n",
              "      <td>fend pand tell doctor bureaucraci undermin leg...</td>\n",
              "      <td>0.000000</td>\n",
              "      <td>0.000000</td>\n",
              "      <td>0.0000</td>\n",
              "      <td>0.000</td>\n",
              "      <td>1.000</td>\n",
              "      <td>0.000</td>\n",
              "    </tr>\n",
              "    <tr>\n",
              "      <th>...</th>\n",
              "      <td>...</td>\n",
              "      <td>...</td>\n",
              "      <td>...</td>\n",
              "      <td>...</td>\n",
              "      <td>...</td>\n",
              "      <td>...</td>\n",
              "      <td>...</td>\n",
              "      <td>...</td>\n",
              "      <td>...</td>\n",
              "      <td>...</td>\n",
              "      <td>...</td>\n",
              "      <td>...</td>\n",
              "    </tr>\n",
              "    <tr>\n",
              "      <th>3701</th>\n",
              "      <td>2015-12-24</td>\n",
              "      <td>25893.84</td>\n",
              "      <td>25922.47</td>\n",
              "      <td>25763.40</td>\n",
              "      <td>25838.71</td>\n",
              "      <td>perfect run form simpl breath exercis reduc an...</td>\n",
              "      <td>0.408666</td>\n",
              "      <td>0.071771</td>\n",
              "      <td>-0.9988</td>\n",
              "      <td>0.122</td>\n",
              "      <td>0.778</td>\n",
              "      <td>0.101</td>\n",
              "    </tr>\n",
              "    <tr>\n",
              "      <th>3702</th>\n",
              "      <td>2015-12-28</td>\n",
              "      <td>25858.52</td>\n",
              "      <td>26073.41</td>\n",
              "      <td>25856.86</td>\n",
              "      <td>26034.13</td>\n",
              "      <td>common sexual fetish best healthi cook oil ind...</td>\n",
              "      <td>0.409842</td>\n",
              "      <td>0.075807</td>\n",
              "      <td>-0.9996</td>\n",
              "      <td>0.136</td>\n",
              "      <td>0.765</td>\n",
              "      <td>0.099</td>\n",
              "    </tr>\n",
              "    <tr>\n",
              "      <th>3703</th>\n",
              "      <td>2015-12-29</td>\n",
              "      <td>26075.68</td>\n",
              "      <td>26133.78</td>\n",
              "      <td>25994.45</td>\n",
              "      <td>26079.48</td>\n",
              "      <td>confus healthi habit nd odi afghanistan vs zim...</td>\n",
              "      <td>0.440270</td>\n",
              "      <td>0.036626</td>\n",
              "      <td>-0.9999</td>\n",
              "      <td>0.151</td>\n",
              "      <td>0.765</td>\n",
              "      <td>0.085</td>\n",
              "    </tr>\n",
              "    <tr>\n",
              "      <th>3704</th>\n",
              "      <td>2015-12-30</td>\n",
              "      <td>26123.87</td>\n",
              "      <td>26130.20</td>\n",
              "      <td>25939.25</td>\n",
              "      <td>25960.03</td>\n",
              "      <td>tip handl late night parti tip avoid red lipst...</td>\n",
              "      <td>0.435480</td>\n",
              "      <td>0.108731</td>\n",
              "      <td>-0.9993</td>\n",
              "      <td>0.132</td>\n",
              "      <td>0.763</td>\n",
              "      <td>0.106</td>\n",
              "    </tr>\n",
              "    <tr>\n",
              "      <th>3705</th>\n",
              "      <td>2015-12-31</td>\n",
              "      <td>25980.86</td>\n",
              "      <td>26147.63</td>\n",
              "      <td>25941.91</td>\n",
              "      <td>26117.54</td>\n",
              "      <td>answer food choic must tri tea healthier right...</td>\n",
              "      <td>0.401180</td>\n",
              "      <td>0.067278</td>\n",
              "      <td>-0.9996</td>\n",
              "      <td>0.159</td>\n",
              "      <td>0.755</td>\n",
              "      <td>0.085</td>\n",
              "    </tr>\n",
              "  </tbody>\n",
              "</table>\n",
              "<p>3706 rows × 12 columns</p>\n",
              "</div>"
            ],
            "text/plain": [
              "           Date      Open      High  ...  Negative  Neutral Positive\n",
              "0    2001-01-04   4180.97   4180.97  ...     0.099    0.791    0.110\n",
              "1    2001-01-05   4116.34   4195.01  ...     0.171    0.659    0.170\n",
              "2    2001-01-08   4164.76   4206.72  ...     0.100    0.816    0.084\n",
              "3    2001-01-09   4114.74   4166.84  ...     0.141    0.813    0.047\n",
              "4    2001-01-10   4151.58   4155.86  ...     0.000    1.000    0.000\n",
              "...         ...       ...       ...  ...       ...      ...      ...\n",
              "3701 2015-12-24  25893.84  25922.47  ...     0.122    0.778    0.101\n",
              "3702 2015-12-28  25858.52  26073.41  ...     0.136    0.765    0.099\n",
              "3703 2015-12-29  26075.68  26133.78  ...     0.151    0.765    0.085\n",
              "3704 2015-12-30  26123.87  26130.20  ...     0.132    0.763    0.106\n",
              "3705 2015-12-31  25980.86  26147.63  ...     0.159    0.755    0.085\n",
              "\n",
              "[3706 rows x 12 columns]"
            ]
          },
          "metadata": {
            "tags": []
          },
          "execution_count": 40
        }
      ]
    },
    {
      "cell_type": "code",
      "metadata": {
        "id": "Y-Ysr1h97ugh",
        "colab": {
          "base_uri": "https://localhost:8080/",
          "height": 419
        },
        "outputId": "af17ec42-ffad-45a3-b5bd-61ceee9204b7"
      },
      "source": [
        "df = df_merge[['Close','Subjectivity', 'Polarity', 'Compound', 'Negative', 'Neutral' ,'Positive']]\n",
        "df"
      ],
      "execution_count": 41,
      "outputs": [
        {
          "output_type": "execute_result",
          "data": {
            "text/html": [
              "<div>\n",
              "<style scoped>\n",
              "    .dataframe tbody tr th:only-of-type {\n",
              "        vertical-align: middle;\n",
              "    }\n",
              "\n",
              "    .dataframe tbody tr th {\n",
              "        vertical-align: top;\n",
              "    }\n",
              "\n",
              "    .dataframe thead th {\n",
              "        text-align: right;\n",
              "    }\n",
              "</style>\n",
              "<table border=\"1\" class=\"dataframe\">\n",
              "  <thead>\n",
              "    <tr style=\"text-align: right;\">\n",
              "      <th></th>\n",
              "      <th>Close</th>\n",
              "      <th>Subjectivity</th>\n",
              "      <th>Polarity</th>\n",
              "      <th>Compound</th>\n",
              "      <th>Negative</th>\n",
              "      <th>Neutral</th>\n",
              "      <th>Positive</th>\n",
              "    </tr>\n",
              "  </thead>\n",
              "  <tbody>\n",
              "    <tr>\n",
              "      <th>0</th>\n",
              "      <td>4115.37</td>\n",
              "      <td>0.475140</td>\n",
              "      <td>0.032481</td>\n",
              "      <td>0.9169</td>\n",
              "      <td>0.099</td>\n",
              "      <td>0.791</td>\n",
              "      <td>0.110</td>\n",
              "    </tr>\n",
              "    <tr>\n",
              "      <th>1</th>\n",
              "      <td>4183.73</td>\n",
              "      <td>0.458412</td>\n",
              "      <td>0.296404</td>\n",
              "      <td>-0.3612</td>\n",
              "      <td>0.171</td>\n",
              "      <td>0.659</td>\n",
              "      <td>0.170</td>\n",
              "    </tr>\n",
              "    <tr>\n",
              "      <th>2</th>\n",
              "      <td>4120.43</td>\n",
              "      <td>0.486204</td>\n",
              "      <td>-0.035142</td>\n",
              "      <td>-0.6808</td>\n",
              "      <td>0.100</td>\n",
              "      <td>0.816</td>\n",
              "      <td>0.084</td>\n",
              "    </tr>\n",
              "    <tr>\n",
              "      <th>3</th>\n",
              "      <td>4125.31</td>\n",
              "      <td>0.453860</td>\n",
              "      <td>0.057229</td>\n",
              "      <td>-0.9928</td>\n",
              "      <td>0.141</td>\n",
              "      <td>0.813</td>\n",
              "      <td>0.047</td>\n",
              "    </tr>\n",
              "    <tr>\n",
              "      <th>4</th>\n",
              "      <td>4047.64</td>\n",
              "      <td>0.000000</td>\n",
              "      <td>0.000000</td>\n",
              "      <td>0.0000</td>\n",
              "      <td>0.000</td>\n",
              "      <td>1.000</td>\n",
              "      <td>0.000</td>\n",
              "    </tr>\n",
              "    <tr>\n",
              "      <th>...</th>\n",
              "      <td>...</td>\n",
              "      <td>...</td>\n",
              "      <td>...</td>\n",
              "      <td>...</td>\n",
              "      <td>...</td>\n",
              "      <td>...</td>\n",
              "      <td>...</td>\n",
              "    </tr>\n",
              "    <tr>\n",
              "      <th>3701</th>\n",
              "      <td>25838.71</td>\n",
              "      <td>0.408666</td>\n",
              "      <td>0.071771</td>\n",
              "      <td>-0.9988</td>\n",
              "      <td>0.122</td>\n",
              "      <td>0.778</td>\n",
              "      <td>0.101</td>\n",
              "    </tr>\n",
              "    <tr>\n",
              "      <th>3702</th>\n",
              "      <td>26034.13</td>\n",
              "      <td>0.409842</td>\n",
              "      <td>0.075807</td>\n",
              "      <td>-0.9996</td>\n",
              "      <td>0.136</td>\n",
              "      <td>0.765</td>\n",
              "      <td>0.099</td>\n",
              "    </tr>\n",
              "    <tr>\n",
              "      <th>3703</th>\n",
              "      <td>26079.48</td>\n",
              "      <td>0.440270</td>\n",
              "      <td>0.036626</td>\n",
              "      <td>-0.9999</td>\n",
              "      <td>0.151</td>\n",
              "      <td>0.765</td>\n",
              "      <td>0.085</td>\n",
              "    </tr>\n",
              "    <tr>\n",
              "      <th>3704</th>\n",
              "      <td>25960.03</td>\n",
              "      <td>0.435480</td>\n",
              "      <td>0.108731</td>\n",
              "      <td>-0.9993</td>\n",
              "      <td>0.132</td>\n",
              "      <td>0.763</td>\n",
              "      <td>0.106</td>\n",
              "    </tr>\n",
              "    <tr>\n",
              "      <th>3705</th>\n",
              "      <td>26117.54</td>\n",
              "      <td>0.401180</td>\n",
              "      <td>0.067278</td>\n",
              "      <td>-0.9996</td>\n",
              "      <td>0.159</td>\n",
              "      <td>0.755</td>\n",
              "      <td>0.085</td>\n",
              "    </tr>\n",
              "  </tbody>\n",
              "</table>\n",
              "<p>3706 rows × 7 columns</p>\n",
              "</div>"
            ],
            "text/plain": [
              "         Close  Subjectivity  Polarity  Compound  Negative  Neutral  Positive\n",
              "0      4115.37      0.475140  0.032481    0.9169     0.099    0.791     0.110\n",
              "1      4183.73      0.458412  0.296404   -0.3612     0.171    0.659     0.170\n",
              "2      4120.43      0.486204 -0.035142   -0.6808     0.100    0.816     0.084\n",
              "3      4125.31      0.453860  0.057229   -0.9928     0.141    0.813     0.047\n",
              "4      4047.64      0.000000  0.000000    0.0000     0.000    1.000     0.000\n",
              "...        ...           ...       ...       ...       ...      ...       ...\n",
              "3701  25838.71      0.408666  0.071771   -0.9988     0.122    0.778     0.101\n",
              "3702  26034.13      0.409842  0.075807   -0.9996     0.136    0.765     0.099\n",
              "3703  26079.48      0.440270  0.036626   -0.9999     0.151    0.765     0.085\n",
              "3704  25960.03      0.435480  0.108731   -0.9993     0.132    0.763     0.106\n",
              "3705  26117.54      0.401180  0.067278   -0.9996     0.159    0.755     0.085\n",
              "\n",
              "[3706 rows x 7 columns]"
            ]
          },
          "metadata": {
            "tags": []
          },
          "execution_count": 41
        }
      ]
    },
    {
      "cell_type": "code",
      "metadata": {
        "id": "_eTM1_n-7w0d",
        "colab": {
          "base_uri": "https://localhost:8080/",
          "height": 204
        },
        "outputId": "294b60cb-153c-49b8-e81b-b6e8485fac89"
      },
      "source": [
        "\n",
        "from sklearn.preprocessing import MinMaxScaler\n",
        "sc = MinMaxScaler()\n",
        "new_df = pd.DataFrame(sc.fit_transform(df))\n",
        "new_df.columns = df.columns\n",
        "new_df.index = df.index\n",
        "new_df.head()\n",
        "new_df.tail()"
      ],
      "execution_count": 60,
      "outputs": [
        {
          "output_type": "execute_result",
          "data": {
            "text/html": [
              "<div>\n",
              "<style scoped>\n",
              "    .dataframe tbody tr th:only-of-type {\n",
              "        vertical-align: middle;\n",
              "    }\n",
              "\n",
              "    .dataframe tbody tr th {\n",
              "        vertical-align: top;\n",
              "    }\n",
              "\n",
              "    .dataframe thead th {\n",
              "        text-align: right;\n",
              "    }\n",
              "</style>\n",
              "<table border=\"1\" class=\"dataframe\">\n",
              "  <thead>\n",
              "    <tr style=\"text-align: right;\">\n",
              "      <th></th>\n",
              "      <th>Close</th>\n",
              "      <th>Subjectivity</th>\n",
              "      <th>Polarity</th>\n",
              "      <th>Compound</th>\n",
              "      <th>Negative</th>\n",
              "      <th>Neutral</th>\n",
              "      <th>Positive</th>\n",
              "    </tr>\n",
              "  </thead>\n",
              "  <tbody>\n",
              "    <tr>\n",
              "      <th>3701</th>\n",
              "      <td>0.858094</td>\n",
              "      <td>0.408666</td>\n",
              "      <td>0.361316</td>\n",
              "      <td>0.00060</td>\n",
              "      <td>0.373089</td>\n",
              "      <td>0.706349</td>\n",
              "      <td>0.133598</td>\n",
              "    </tr>\n",
              "    <tr>\n",
              "      <th>3702</th>\n",
              "      <td>0.865310</td>\n",
              "      <td>0.409842</td>\n",
              "      <td>0.367694</td>\n",
              "      <td>0.00020</td>\n",
              "      <td>0.415902</td>\n",
              "      <td>0.689153</td>\n",
              "      <td>0.130952</td>\n",
              "    </tr>\n",
              "    <tr>\n",
              "      <th>3703</th>\n",
              "      <td>0.866984</td>\n",
              "      <td>0.440270</td>\n",
              "      <td>0.305775</td>\n",
              "      <td>0.00005</td>\n",
              "      <td>0.461774</td>\n",
              "      <td>0.689153</td>\n",
              "      <td>0.112434</td>\n",
              "    </tr>\n",
              "    <tr>\n",
              "      <th>3704</th>\n",
              "      <td>0.862573</td>\n",
              "      <td>0.435480</td>\n",
              "      <td>0.419725</td>\n",
              "      <td>0.00035</td>\n",
              "      <td>0.403670</td>\n",
              "      <td>0.686508</td>\n",
              "      <td>0.140212</td>\n",
              "    </tr>\n",
              "    <tr>\n",
              "      <th>3705</th>\n",
              "      <td>0.868389</td>\n",
              "      <td>0.401180</td>\n",
              "      <td>0.354215</td>\n",
              "      <td>0.00020</td>\n",
              "      <td>0.486239</td>\n",
              "      <td>0.675926</td>\n",
              "      <td>0.112434</td>\n",
              "    </tr>\n",
              "  </tbody>\n",
              "</table>\n",
              "</div>"
            ],
            "text/plain": [
              "         Close  Subjectivity  Polarity  Compound  Negative   Neutral  Positive\n",
              "3701  0.858094      0.408666  0.361316   0.00060  0.373089  0.706349  0.133598\n",
              "3702  0.865310      0.409842  0.367694   0.00020  0.415902  0.689153  0.130952\n",
              "3703  0.866984      0.440270  0.305775   0.00005  0.461774  0.689153  0.112434\n",
              "3704  0.862573      0.435480  0.419725   0.00035  0.403670  0.686508  0.140212\n",
              "3705  0.868389      0.401180  0.354215   0.00020  0.486239  0.675926  0.112434"
            ]
          },
          "metadata": {
            "tags": []
          },
          "execution_count": 60
        }
      ]
    },
    {
      "cell_type": "code",
      "metadata": {
        "id": "yCJ8x6AZ7yxL"
      },
      "source": [
        "X = new_df.drop('Close', axis=1)\n",
        "y =new_df['Close']"
      ],
      "execution_count": 43,
      "outputs": []
    },
    {
      "cell_type": "code",
      "metadata": {
        "id": "kJv0jOtW76_r",
        "colab": {
          "base_uri": "https://localhost:8080/"
        },
        "outputId": "f300c1c9-e3e2-4dbd-835d-3d1cc726c869"
      },
      "source": [
        "x_train, x_test, y_train, y_test = train_test_split(X, y, test_size=0.2, random_state = 0)\n",
        "x_train.shape"
      ],
      "execution_count": 44,
      "outputs": [
        {
          "output_type": "execute_result",
          "data": {
            "text/plain": [
              "(2964, 6)"
            ]
          },
          "metadata": {
            "tags": []
          },
          "execution_count": 44
        }
      ]
    },
    {
      "cell_type": "code",
      "metadata": {
        "id": "ppab502F78ta"
      },
      "source": [
        "rf = RandomForestRegressor()\n",
        "rf.fit(x_train, y_train)\n",
        "prediction=rf.predict(x_test)"
      ],
      "execution_count": 45,
      "outputs": []
    },
    {
      "cell_type": "code",
      "metadata": {
        "id": "eqKBB0qL7-uq",
        "colab": {
          "base_uri": "https://localhost:8080/"
        },
        "outputId": "50e0f708-7e1b-4c95-dc68-a0e78f7d6acb"
      },
      "source": [
        "print(prediction[:10])\n",
        "print(y_test[:10])\n",
        "print(mean_squared_error(prediction,y_test))"
      ],
      "execution_count": 46,
      "outputs": [
        {
          "output_type": "stream",
          "text": [
            "[0.18533249 0.5833114  0.74537504 0.25180616 0.21061057 0.10918056\n",
            " 0.13367947 0.1629954  0.51272638 0.14909353]\n",
            "1032    0.144401\n",
            "3033    0.583950\n",
            "2797    0.542869\n",
            "2060    0.411216\n",
            "1366    0.288590\n",
            "1544    0.398202\n",
            "748     0.123687\n",
            "45      0.043871\n",
            "2148    0.521363\n",
            "1082    0.153538\n",
            "Name: Close, dtype: float64\n",
            "0.03539248362156796\n"
          ],
          "name": "stdout"
        }
      ]
    },
    {
      "cell_type": "code",
      "metadata": {
        "id": "RJh52skN8ApG"
      },
      "source": [
        "\n",
        "adb = AdaBoostRegressor()\n",
        "adb.fit(x_train, y_train)\n",
        "predictions = adb.predict(x_test)"
      ],
      "execution_count": 47,
      "outputs": []
    },
    {
      "cell_type": "code",
      "metadata": {
        "id": "oR_nRHzE8Cn0",
        "colab": {
          "base_uri": "https://localhost:8080/"
        },
        "outputId": "7bfa211d-685a-469b-dbcd-d4f5f9d4e142"
      },
      "source": [
        "print(mean_squared_error(predictions, y_test))"
      ],
      "execution_count": 48,
      "outputs": [
        {
          "output_type": "stream",
          "text": [
            "0.043233988559477715\n"
          ],
          "name": "stdout"
        }
      ]
    },
    {
      "cell_type": "code",
      "metadata": {
        "id": "eV5nTlI18Edc"
      },
      "source": [
        "from sklearn.tree import DecisionTreeRegressor\n",
        "dec_tree = DecisionTreeRegressor()\n",
        "dec_tree.fit(x_train, y_train)\n",
        "predictions = dec_tree.predict(x_test)"
      ],
      "execution_count": 49,
      "outputs": []
    },
    {
      "cell_type": "code",
      "metadata": {
        "id": "k8R4uryL8GK0",
        "colab": {
          "base_uri": "https://localhost:8080/"
        },
        "outputId": "6db1afcc-1a3e-4ed5-e415-ae13ddb3f61b"
      },
      "source": [
        "print(predictions[:10])\n",
        "print(y_test[:10])\n",
        "print(mean_squared_error(predictions,y_test))"
      ],
      "execution_count": 50,
      "outputs": [
        {
          "output_type": "stream",
          "text": [
            "[0.19189968 0.54552511 0.93542232 0.01265285 0.13949409 0.03708267\n",
            " 0.34169742 0.08396571 0.56176415 0.02390512]\n",
            "1032    0.144401\n",
            "3033    0.583950\n",
            "2797    0.542869\n",
            "2060    0.411216\n",
            "1366    0.288590\n",
            "1544    0.398202\n",
            "748     0.123687\n",
            "45      0.043871\n",
            "2148    0.521363\n",
            "1082    0.153538\n",
            "Name: Close, dtype: float64\n",
            "0.06442163705135617\n"
          ],
          "name": "stdout"
        }
      ]
    },
    {
      "cell_type": "code",
      "metadata": {
        "id": "FFjbS5e38IIQ",
        "colab": {
          "base_uri": "https://localhost:8080/"
        },
        "outputId": "20742809-6166-4ace-cb6b-f91a39f1fbd1"
      },
      "source": [
        "lgb = lightgbm.LGBMRegressor()\n",
        "lgb.fit(x_train, y_train)"
      ],
      "execution_count": 51,
      "outputs": [
        {
          "output_type": "execute_result",
          "data": {
            "text/plain": [
              "LGBMRegressor(boosting_type='gbdt', class_weight=None, colsample_bytree=1.0,\n",
              "              importance_type='split', learning_rate=0.1, max_depth=-1,\n",
              "              min_child_samples=20, min_child_weight=0.001, min_split_gain=0.0,\n",
              "              n_estimators=100, n_jobs=-1, num_leaves=31, objective=None,\n",
              "              random_state=None, reg_alpha=0.0, reg_lambda=0.0, silent=True,\n",
              "              subsample=1.0, subsample_for_bin=200000, subsample_freq=0)"
            ]
          },
          "metadata": {
            "tags": []
          },
          "execution_count": 51
        }
      ]
    },
    {
      "cell_type": "code",
      "metadata": {
        "id": "Cnm1jpLm8KIN",
        "colab": {
          "base_uri": "https://localhost:8080/"
        },
        "outputId": "51765183-216d-4670-ef63-0059429c6e4c"
      },
      "source": [
        "predictions = lgb.predict(x_test)\n",
        "print(mean_squared_error(predictions,y_test))"
      ],
      "execution_count": 52,
      "outputs": [
        {
          "output_type": "stream",
          "text": [
            "0.03593414361086365\n"
          ],
          "name": "stdout"
        }
      ]
    },
    {
      "cell_type": "code",
      "metadata": {
        "id": "tHA9Kdu_8L2A",
        "colab": {
          "base_uri": "https://localhost:8080/"
        },
        "outputId": "a5a294a5-6b42-4b81-99d5-f41504e6ac1b"
      },
      "source": [
        "xgb = xgboost.XGBRegressor()\n",
        "xgb.fit(x_train, y_train)"
      ],
      "execution_count": 55,
      "outputs": [
        {
          "output_type": "stream",
          "text": [
            "[16:00:31] WARNING: /workspace/src/objective/regression_obj.cu:152: reg:linear is now deprecated in favor of reg:squarederror.\n"
          ],
          "name": "stdout"
        },
        {
          "output_type": "execute_result",
          "data": {
            "text/plain": [
              "XGBRegressor(base_score=0.5, booster='gbtree', colsample_bylevel=1,\n",
              "             colsample_bynode=1, colsample_bytree=1, gamma=0,\n",
              "             importance_type='gain', learning_rate=0.1, max_delta_step=0,\n",
              "             max_depth=3, min_child_weight=1, missing=None, n_estimators=100,\n",
              "             n_jobs=1, nthread=None, objective='reg:linear', random_state=0,\n",
              "             reg_alpha=0, reg_lambda=1, scale_pos_weight=1, seed=None,\n",
              "             silent=None, subsample=1, verbosity=1)"
            ]
          },
          "metadata": {
            "tags": []
          },
          "execution_count": 55
        }
      ]
    },
    {
      "cell_type": "code",
      "metadata": {
        "id": "JvQ3Tu1N8PNs",
        "colab": {
          "base_uri": "https://localhost:8080/"
        },
        "outputId": "b4f4e14a-9b5d-488c-a04d-0bf0562ed198"
      },
      "source": [
        "predictions = xgb.predict(x_test)\n",
        "print(mean_squared_error(predictions,y_test))"
      ],
      "execution_count": 56,
      "outputs": [
        {
          "output_type": "stream",
          "text": [
            "0.03667322773124939\n"
          ],
          "name": "stdout"
        }
      ]
    },
    {
      "cell_type": "markdown",
      "metadata": {
        "id": "sNyULSCbXxkz"
      },
      "source": [
        "**We see XgBoost, lightgbm and RandomForest works best in predicting stock's close value using sentimental data as input.**"
      ]
    }
  ]
}